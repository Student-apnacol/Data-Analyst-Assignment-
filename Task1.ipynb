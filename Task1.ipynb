{
 "cells": [
  {
   "cell_type": "markdown",
   "id": "32c2a6bb-7b90-4556-b08f-e68a98b4dd49",
   "metadata": {},
   "source": [
    "# 1. Introduction\n",
    "# This report analyzes the performance metrics of three articles related to popular anime and manga. The objective is to understand user engagement and identify strategies to optimize content performance.\n"
   ]
  },
  {
   "cell_type": "markdown",
   "id": "991a7254-c05c-425f-8ff4-ad41e12ca78d",
   "metadata": {},
   "source": [
    "## 1.1 Import Libraries"
   ]
  },
  {
   "cell_type": "code",
   "execution_count": 126,
   "id": "f7deaaf7-6bd8-4a15-a6da-854c8357acce",
   "metadata": {},
   "outputs": [],
   "source": [
    "import pandas as pd\n",
    "import numpy as np\n",
    "import matplotlib.pyplot as plt\n",
    "import seaborn as sns"
   ]
  },
  {
   "cell_type": "markdown",
   "id": "810bceec-3b82-4254-b0d6-4e4a7915dfa2",
   "metadata": {},
   "source": [
    "# 2. Dataset Overview\n",
    "## A dataset containing hypothetical metrics for three articles was created, including page views, average time spent, and bounce rates over a 30-day period.\n"
   ]
  },
  {
   "cell_type": "code",
   "execution_count": 68,
   "id": "2301d723-4149-439d-9bba-e02f602ae8b7",
   "metadata": {},
   "outputs": [],
   "source": [
    "data = {\n",
    "    'Date': pd.date_range(start='2024-01-01', periods=30, freq='D'),\n",
    "    'Article': ['Tower of God'] * 10 + ['Refund High School'] * 10 + ['Solo Leveling'] * 10,\n",
    "    'Page_Views': np.random.randint(100, 1000, size=30),  # Random page views between 100 and 1000\n",
    "    'Average_Time_Spent (min)': np.round(np.random.uniform(1, 5, size=30), 2),  # Time in minutes\n",
    "    'Bounce_Rate (%)': np.round(np.random.uniform(20, 70, size=30), 2),  # Bounce rate between 20% and 70%\n",
    "}"
   ]
  },
  {
   "cell_type": "markdown",
   "id": "6e8a892b-2630-4f04-a9ce-b4bf9dfbef34",
   "metadata": {},
   "source": [
    "# 3. Create Data frame "
   ]
  },
  {
   "cell_type": "code",
   "execution_count": 71,
   "id": "3f868364-6869-429b-ab53-62873ef3288d",
   "metadata": {},
   "outputs": [],
   "source": [
    "df = pd.DataFrame(data)"
   ]
  },
  {
   "cell_type": "markdown",
   "id": "0be5383f-db51-459e-ba09-9721a78b4539",
   "metadata": {},
   "source": [
    "## 3.1 Add a new column for a hypothetical engagement metric"
   ]
  },
  {
   "cell_type": "code",
   "execution_count": 73,
   "id": "26fdfc51-1bfc-4640-b79a-638c2f24da3d",
   "metadata": {},
   "outputs": [],
   "source": [
    "df['Engaged_Users (%)'] = 100 - df['Bounce_Rate (%)']"
   ]
  },
  {
   "cell_type": "code",
   "execution_count": 75,
   "id": "10d30d22-39ad-4720-bc07-0ede40a91700",
   "metadata": {},
   "outputs": [
    {
     "data": {
      "text/html": [
       "<div>\n",
       "<style scoped>\n",
       "    .dataframe tbody tr th:only-of-type {\n",
       "        vertical-align: middle;\n",
       "    }\n",
       "\n",
       "    .dataframe tbody tr th {\n",
       "        vertical-align: top;\n",
       "    }\n",
       "\n",
       "    .dataframe thead th {\n",
       "        text-align: right;\n",
       "    }\n",
       "</style>\n",
       "<table border=\"1\" class=\"dataframe\">\n",
       "  <thead>\n",
       "    <tr style=\"text-align: right;\">\n",
       "      <th></th>\n",
       "      <th>Date</th>\n",
       "      <th>Article</th>\n",
       "      <th>Page_Views</th>\n",
       "      <th>Average_Time_Spent (min)</th>\n",
       "      <th>Bounce_Rate (%)</th>\n",
       "      <th>Engaged_Users (%)</th>\n",
       "    </tr>\n",
       "  </thead>\n",
       "  <tbody>\n",
       "    <tr>\n",
       "      <th>0</th>\n",
       "      <td>2024-01-01</td>\n",
       "      <td>Tower of God</td>\n",
       "      <td>554</td>\n",
       "      <td>4.62</td>\n",
       "      <td>57.74</td>\n",
       "      <td>42.26</td>\n",
       "    </tr>\n",
       "    <tr>\n",
       "      <th>1</th>\n",
       "      <td>2024-01-02</td>\n",
       "      <td>Tower of God</td>\n",
       "      <td>259</td>\n",
       "      <td>4.09</td>\n",
       "      <td>28.52</td>\n",
       "      <td>71.48</td>\n",
       "    </tr>\n",
       "    <tr>\n",
       "      <th>2</th>\n",
       "      <td>2024-01-03</td>\n",
       "      <td>Tower of God</td>\n",
       "      <td>622</td>\n",
       "      <td>2.06</td>\n",
       "      <td>40.47</td>\n",
       "      <td>59.53</td>\n",
       "    </tr>\n",
       "    <tr>\n",
       "      <th>3</th>\n",
       "      <td>2024-01-04</td>\n",
       "      <td>Tower of God</td>\n",
       "      <td>749</td>\n",
       "      <td>3.58</td>\n",
       "      <td>41.13</td>\n",
       "      <td>58.87</td>\n",
       "    </tr>\n",
       "    <tr>\n",
       "      <th>4</th>\n",
       "      <td>2024-01-05</td>\n",
       "      <td>Tower of God</td>\n",
       "      <td>689</td>\n",
       "      <td>3.38</td>\n",
       "      <td>61.09</td>\n",
       "      <td>38.91</td>\n",
       "    </tr>\n",
       "  </tbody>\n",
       "</table>\n",
       "</div>"
      ],
      "text/plain": [
       "        Date       Article  Page_Views  Average_Time_Spent (min)  \\\n",
       "0 2024-01-01  Tower of God         554                      4.62   \n",
       "1 2024-01-02  Tower of God         259                      4.09   \n",
       "2 2024-01-03  Tower of God         622                      2.06   \n",
       "3 2024-01-04  Tower of God         749                      3.58   \n",
       "4 2024-01-05  Tower of God         689                      3.38   \n",
       "\n",
       "   Bounce_Rate (%)  Engaged_Users (%)  \n",
       "0            57.74              42.26  \n",
       "1            28.52              71.48  \n",
       "2            40.47              59.53  \n",
       "3            41.13              58.87  \n",
       "4            61.09              38.91  "
      ]
     },
     "execution_count": 75,
     "metadata": {},
     "output_type": "execute_result"
    }
   ],
   "source": [
    "df.head()"
   ]
  },
  {
   "cell_type": "markdown",
   "id": "42ddca55-a95b-4603-b777-bb2e947cf0dc",
   "metadata": {},
   "source": [
    "# 4. DATA EXPLORATION"
   ]
  },
  {
   "cell_type": "code",
   "execution_count": 77,
   "id": "ddffcf50-3573-4219-a4e0-d461ceee0d4d",
   "metadata": {},
   "outputs": [
    {
     "data": {
      "text/html": [
       "<div>\n",
       "<style scoped>\n",
       "    .dataframe tbody tr th:only-of-type {\n",
       "        vertical-align: middle;\n",
       "    }\n",
       "\n",
       "    .dataframe tbody tr th {\n",
       "        vertical-align: top;\n",
       "    }\n",
       "\n",
       "    .dataframe thead th {\n",
       "        text-align: right;\n",
       "    }\n",
       "</style>\n",
       "<table border=\"1\" class=\"dataframe\">\n",
       "  <thead>\n",
       "    <tr style=\"text-align: right;\">\n",
       "      <th></th>\n",
       "      <th>Page_Views</th>\n",
       "      <th>Average_Time_Spent (min)</th>\n",
       "      <th>Bounce_Rate (%)</th>\n",
       "      <th>Engaged_Users (%)</th>\n",
       "    </tr>\n",
       "  </thead>\n",
       "  <tbody>\n",
       "    <tr>\n",
       "      <th>count</th>\n",
       "      <td>30.000000</td>\n",
       "      <td>30.000000</td>\n",
       "      <td>30.000000</td>\n",
       "      <td>30.000000</td>\n",
       "    </tr>\n",
       "    <tr>\n",
       "      <th>mean</th>\n",
       "      <td>569.533333</td>\n",
       "      <td>2.976000</td>\n",
       "      <td>41.681667</td>\n",
       "      <td>58.318333</td>\n",
       "    </tr>\n",
       "    <tr>\n",
       "      <th>std</th>\n",
       "      <td>216.200535</td>\n",
       "      <td>1.028479</td>\n",
       "      <td>14.854482</td>\n",
       "      <td>14.854482</td>\n",
       "    </tr>\n",
       "    <tr>\n",
       "      <th>min</th>\n",
       "      <td>176.000000</td>\n",
       "      <td>1.210000</td>\n",
       "      <td>20.060000</td>\n",
       "      <td>30.940000</td>\n",
       "    </tr>\n",
       "    <tr>\n",
       "      <th>25%</th>\n",
       "      <td>384.500000</td>\n",
       "      <td>2.340000</td>\n",
       "      <td>29.232500</td>\n",
       "      <td>43.960000</td>\n",
       "    </tr>\n",
       "    <tr>\n",
       "      <th>50%</th>\n",
       "      <td>615.000000</td>\n",
       "      <td>2.810000</td>\n",
       "      <td>39.090000</td>\n",
       "      <td>60.910000</td>\n",
       "    </tr>\n",
       "    <tr>\n",
       "      <th>75%</th>\n",
       "      <td>726.000000</td>\n",
       "      <td>3.575000</td>\n",
       "      <td>56.040000</td>\n",
       "      <td>70.767500</td>\n",
       "    </tr>\n",
       "    <tr>\n",
       "      <th>max</th>\n",
       "      <td>934.000000</td>\n",
       "      <td>4.980000</td>\n",
       "      <td>69.060000</td>\n",
       "      <td>79.940000</td>\n",
       "    </tr>\n",
       "  </tbody>\n",
       "</table>\n",
       "</div>"
      ],
      "text/plain": [
       "       Page_Views  Average_Time_Spent (min)  Bounce_Rate (%)  \\\n",
       "count   30.000000                 30.000000        30.000000   \n",
       "mean   569.533333                  2.976000        41.681667   \n",
       "std    216.200535                  1.028479        14.854482   \n",
       "min    176.000000                  1.210000        20.060000   \n",
       "25%    384.500000                  2.340000        29.232500   \n",
       "50%    615.000000                  2.810000        39.090000   \n",
       "75%    726.000000                  3.575000        56.040000   \n",
       "max    934.000000                  4.980000        69.060000   \n",
       "\n",
       "       Engaged_Users (%)  \n",
       "count          30.000000  \n",
       "mean           58.318333  \n",
       "std            14.854482  \n",
       "min            30.940000  \n",
       "25%            43.960000  \n",
       "50%            60.910000  \n",
       "75%            70.767500  \n",
       "max            79.940000  "
      ]
     },
     "execution_count": 77,
     "metadata": {},
     "output_type": "execute_result"
    }
   ],
   "source": [
    "df.describe(include=[np.number])"
   ]
  },
  {
   "cell_type": "code",
   "execution_count": 79,
   "id": "5c5b2c37-eccb-4630-9866-49e4753e973d",
   "metadata": {},
   "outputs": [
    {
     "name": "stdout",
     "output_type": "stream",
     "text": [
      "<class 'pandas.core.frame.DataFrame'>\n",
      "RangeIndex: 30 entries, 0 to 29\n",
      "Data columns (total 6 columns):\n",
      " #   Column                    Non-Null Count  Dtype         \n",
      "---  ------                    --------------  -----         \n",
      " 0   Date                      30 non-null     datetime64[ns]\n",
      " 1   Article                   30 non-null     object        \n",
      " 2   Page_Views                30 non-null     int32         \n",
      " 3   Average_Time_Spent (min)  30 non-null     float64       \n",
      " 4   Bounce_Rate (%)           30 non-null     float64       \n",
      " 5   Engaged_Users (%)         30 non-null     float64       \n",
      "dtypes: datetime64[ns](1), float64(3), int32(1), object(1)\n",
      "memory usage: 1.4+ KB\n"
     ]
    }
   ],
   "source": [
    "df.info()"
   ]
  },
  {
   "cell_type": "markdown",
   "id": "37827535-88cf-4010-bfae-63a71feb9cbb",
   "metadata": {},
   "source": [
    "### 4.1 UNIQUE ARTICLES"
   ]
  },
  {
   "cell_type": "code",
   "execution_count": 26,
   "id": "9f8516c0-144c-4e9d-bb2c-b31a50caf1d5",
   "metadata": {},
   "outputs": [
    {
     "data": {
      "text/plain": [
       "array(['Tower of God', 'Refund High School', 'Solo Leveling'],\n",
       "      dtype=object)"
      ]
     },
     "execution_count": 26,
     "metadata": {},
     "output_type": "execute_result"
    }
   ],
   "source": [
    "df['Article'].unique()"
   ]
  },
  {
   "cell_type": "markdown",
   "id": "7747813e-4af1-475f-b67f-aea939ff4286",
   "metadata": {},
   "source": [
    "# 5.  DATA ANALYSIS"
   ]
  },
  {
   "cell_type": "markdown",
   "id": "0a7cc992-8838-4708-a3d3-5ecae42091d2",
   "metadata": {},
   "source": [
    "## 5.1 PAGE_VIEWS"
   ]
  },
  {
   "cell_type": "code",
   "execution_count": 30,
   "id": "d7c1a3d2-c4f1-4756-a9f5-6eaf574cc9d1",
   "metadata": {},
   "outputs": [
    {
     "data": {
      "text/html": [
       "<div>\n",
       "<style scoped>\n",
       "    .dataframe tbody tr th:only-of-type {\n",
       "        vertical-align: middle;\n",
       "    }\n",
       "\n",
       "    .dataframe tbody tr th {\n",
       "        vertical-align: top;\n",
       "    }\n",
       "\n",
       "    .dataframe thead th {\n",
       "        text-align: right;\n",
       "    }\n",
       "</style>\n",
       "<table border=\"1\" class=\"dataframe\">\n",
       "  <thead>\n",
       "    <tr style=\"text-align: right;\">\n",
       "      <th></th>\n",
       "      <th>Article</th>\n",
       "      <th>Page_Views</th>\n",
       "    </tr>\n",
       "  </thead>\n",
       "  <tbody>\n",
       "    <tr>\n",
       "      <th>0</th>\n",
       "      <td>Refund High School</td>\n",
       "      <td>6372</td>\n",
       "    </tr>\n",
       "    <tr>\n",
       "      <th>1</th>\n",
       "      <td>Solo Leveling</td>\n",
       "      <td>5460</td>\n",
       "    </tr>\n",
       "    <tr>\n",
       "      <th>2</th>\n",
       "      <td>Tower of God</td>\n",
       "      <td>5885</td>\n",
       "    </tr>\n",
       "  </tbody>\n",
       "</table>\n",
       "</div>"
      ],
      "text/plain": [
       "              Article  Page_Views\n",
       "0  Refund High School        6372\n",
       "1       Solo Leveling        5460\n",
       "2        Tower of God        5885"
      ]
     },
     "execution_count": 30,
     "metadata": {},
     "output_type": "execute_result"
    }
   ],
   "source": [
    "page_views = df.groupby('Article')['Page_Views'].sum().reset_index()\n",
    "page_views"
   ]
  },
  {
   "cell_type": "markdown",
   "id": "7f5179a0-a240-4a59-8c4a-61da9e06ba1e",
   "metadata": {},
   "source": [
    "## 5.2 Average time spent per Article"
   ]
  },
  {
   "cell_type": "code",
   "execution_count": 98,
   "id": "70848adb-5b3d-4e24-8706-be6e021c363b",
   "metadata": {},
   "outputs": [
    {
     "data": {
      "text/html": [
       "<div>\n",
       "<style scoped>\n",
       "    .dataframe tbody tr th:only-of-type {\n",
       "        vertical-align: middle;\n",
       "    }\n",
       "\n",
       "    .dataframe tbody tr th {\n",
       "        vertical-align: top;\n",
       "    }\n",
       "\n",
       "    .dataframe thead th {\n",
       "        text-align: right;\n",
       "    }\n",
       "</style>\n",
       "<table border=\"1\" class=\"dataframe\">\n",
       "  <thead>\n",
       "    <tr style=\"text-align: right;\">\n",
       "      <th></th>\n",
       "      <th>Article</th>\n",
       "      <th>Average_Time_Spent (min)</th>\n",
       "    </tr>\n",
       "  </thead>\n",
       "  <tbody>\n",
       "    <tr>\n",
       "      <th>0</th>\n",
       "      <td>Refund High School</td>\n",
       "      <td>2.853</td>\n",
       "    </tr>\n",
       "    <tr>\n",
       "      <th>1</th>\n",
       "      <td>Solo Leveling</td>\n",
       "      <td>2.934</td>\n",
       "    </tr>\n",
       "    <tr>\n",
       "      <th>2</th>\n",
       "      <td>Tower of God</td>\n",
       "      <td>3.141</td>\n",
       "    </tr>\n",
       "  </tbody>\n",
       "</table>\n",
       "</div>"
      ],
      "text/plain": [
       "              Article  Average_Time_Spent (min)\n",
       "0  Refund High School                     2.853\n",
       "1       Solo Leveling                     2.934\n",
       "2        Tower of God                     3.141"
      ]
     },
     "execution_count": 98,
     "metadata": {},
     "output_type": "execute_result"
    }
   ],
   "source": [
    "# Group data by article and calculate \n",
    "avg_time_spent = df.groupby('Article')['Average_Time_Spent (min)'].mean().reset_index()\n",
    "avg_time_spent"
   ]
  },
  {
   "cell_type": "markdown",
   "id": "505d30fb-3282-47ad-8c06-d191756e4ab0",
   "metadata": {},
   "source": [
    "## 5.3 Average bounce rate for each article"
   ]
  },
  {
   "cell_type": "code",
   "execution_count": 101,
   "id": "162128ca-813a-4368-ba35-84ebb20acb75",
   "metadata": {},
   "outputs": [
    {
     "data": {
      "text/plain": [
       "Article\n",
       "Refund High School    43.365\n",
       "Solo Leveling         38.082\n",
       "Tower of God          43.598\n",
       "Name: Bounce_Rate (%), dtype: float64"
      ]
     },
     "execution_count": 101,
     "metadata": {},
     "output_type": "execute_result"
    }
   ],
   "source": [
    "bounce_rate = df.groupby('Article')['Bounce_Rate (%)'].mean()\n",
    "bounce_rate"
   ]
  },
  {
   "cell_type": "markdown",
   "id": "bba7eb67-d16e-48b3-8dbb-f2a48a6eadef",
   "metadata": {},
   "source": [
    "# 6 DATA VISUALIZATION"
   ]
  },
  {
   "cell_type": "markdown",
   "id": "762e5141-59b2-4b31-a265-35e5588c0223",
   "metadata": {},
   "source": [
    "## 6.1 Page views"
   ]
  },
  {
   "cell_type": "code",
   "execution_count": 122,
   "id": "ba0bf78a-4be3-4e96-8b99-053734e37e16",
   "metadata": {
    "scrolled": true
   },
   "outputs": [
    {
     "name": "stderr",
     "output_type": "stream",
     "text": [
      "C:\\Users\\Lenovo\\AppData\\Local\\Temp\\ipykernel_20620\\2074419204.py:2: FutureWarning: \n",
      "\n",
      "Passing `palette` without assigning `hue` is deprecated and will be removed in v0.14.0. Assign the `x` variable to `hue` and set `legend=False` for the same effect.\n",
      "\n",
      "  sns.barplot(data=page_views, x='Article', y='Page_Views', palette='viridis')\n"
     ]
    },
    {
     "data": {
      "image/png": "[encoded data removed]",
      "text/plain": [
       "<Figure size 1000x200 with 1 Axes>"
      ]
     },
     "metadata": {},
     "output_type": "display_data"
    }
   ],
   "source": [
    "plt.figure(figsize=(10, 2))\n",
    "sns.barplot(data=page_views, x='Article', y='Page_Views', palette='viridis')\n",
    "plt.title('Total Page Views by Article')\n",
    "plt.xlabel('Article')\n",
    "plt.ylabel('Total Page Views')\n",
    "plt.xticks(rotation=15)\n",
    "plt.show()"
   ]
  },
  {
   "cell_type": "markdown",
   "id": "7608f515-3caf-4385-bfd0-dbf89904148b",
   "metadata": {},
   "source": [
    "## 6.2 Average Time Spent"
   ]
  },
  {
   "cell_type": "code",
   "execution_count": 120,
   "id": "273b7465-a04e-4f9e-9d57-c6de703fe208",
   "metadata": {
    "scrolled": true
   },
   "outputs": [
    {
     "data": {
      "image/png": "[encoded data removed]",
      "text/plain": [
       "<Figure size 1000x200 with 1 Axes>"
      ]
     },
     "metadata": {},
     "output_type": "display_data"
    }
   ],
   "source": [
    "\n",
    "plt.figure(figsize=(10, 2))\n",
    "sns.lineplot(data=avg_time_spent, x='Article', y='Average_Time_Spent (min)', marker='o')\n",
    "plt.title('Average Time Spent by Article')\n",
    "plt.xlabel('Article')\n",
    "plt.ylabel('Average Time Spent (min)')\n",
    "plt.xticks(rotation=15)\n",
    "plt.show()"
   ]
  },
  {
   "cell_type": "markdown",
   "id": "4d7862b3-e020-406a-904f-c6067a0a2f86",
   "metadata": {},
   "source": [
    "## 6.3 Bounce Rate"
   ]
  },
  {
   "cell_type": "code",
   "execution_count": 124,
   "id": "1659fcba-d1b6-4a63-a895-f9ccb5a9cf2c",
   "metadata": {},
   "outputs": [
    {
     "data": {
      "image/png": "[encoded data removed]",
      "text/plain": [
       "<Figure size 600x600 with 1 Axes>"
      ]
     },
     "metadata": {},
     "output_type": "display_data"
    }
   ],
   "source": [
    "plt.figure(figsize=(6, 6))\n",
    "plt.pie(bounce_rate, labels=bounce_rate.index, autopct='%1.1f%%', startangle=140)\n",
    "plt.title('Average Bounce Rate by Article')\n",
    "plt.axis('equal')  # Equal aspect ratio ensures the pie chart is circular.\n",
    "plt.show()"
   ]
  },
  {
   "cell_type": "markdown",
   "id": "31c6d2df-6546-488f-8077-44bbc6f77781",
   "metadata": {},
   "source": [
    "## Summary and Insights\n",
    "\n",
    "### Performance Metrics Overview\n",
    "\n",
    "The analysis of user engagement metrics for the articles yields the following results:\n",
    "\n",
    "| Article             | Page Views | Average Time Spent (min) | Bounce Rate (%) | Engaged Users (%) |\n",
    "|---------------------|------------|---------------------------|------------------|-------------------|\n",
    "| Refund High School  | 6,372      | 2.85                      | 43.37            | 43.37             |\n",
    "| Solo Leveling       | 5,460      | 2.93                      | 38.08            | 38.08             |\n",
    "| Tower of God        | 5,885      | 3.14                      | 43.60            | 43.60             |\n",
    "\n",
    "### Summary of Engagement Metrics\n",
    "\n",
    "- **Total Page Views:** The \"Refund High School\" article received the highest page views (6,372), indicating its popularity.\n",
    "- **Average Time Spent:** \"Tower of God\" had the longest average time spent (3.14 minutes), suggesting higher engagement per view compared to the other articles.\n",
    "- **Bounce Rate:** \"Solo Leveling\" had the lowest bounce rate (38.08%), indicating that visitors are more likely to continue interacting with the content.\n",
    "- **Engaged Users:** All articles showed similar percentages of engaged users, with \"Refund High School\" and \"Tower of God\" having slightly higher engagement (around 43%).\n",
    "\n",
    "### Conclusion\n",
    "\n",
    "In summary, while the \"Refund High School\" article is the most viewed, the \"Tower of God\" article demonstrates better engagement through longer average time spent. The \"Solo Level\n"
   ]
  },
  {
   "cell_type": "code",
   "execution_count": null,
   "id": "1afda539-185f-49eb-b5c9-3283924baaab",
   "metadata": {},
   "outputs": [],
   "source": []
  }
 ],
 "metadata": {
  "kernelspec": {
   "display_name": "Python 3 (ipykernel)",
   "language": "python",
   "name": "python3"
  },
  "language_info": {
   "codemirror_mode": {
    "name": "ipython",
    "version": 3
   },
   "file_extension": ".py",
   "mimetype": "text/x-python",
   "name": "python",
   "nbconvert_exporter": "python",
   "pygments_lexer": "ipython3",
   "version": "3.12.4"
  }
 },
 "nbformat": 4,
 "nbformat_minor": 5
}
